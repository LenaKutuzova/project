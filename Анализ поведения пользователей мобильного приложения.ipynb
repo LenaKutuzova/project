{
 "cells": [
  {
   "cell_type": "markdown",
   "metadata": {},
   "source": [
    "# Анализ поведения пользователей мобильного приложения"
   ]
  },
  {
   "cell_type": "markdown",
   "metadata": {},
   "source": [
    "**Цель проекта:** Необходимо проанализировать поведение покупателей на основании логов пользователей и результатов А/А/В - эксперимента (изменение шрифта во всем приложении).\n",
    "\n",
    "**Входные данные**: логи пользователей мабильного приложения по продаже продуктов питания.\n",
    "\n",
    "**Ход исследования:**\n",
    "\n",
    "Исследование пройдёт в четыре этапа:\n",
    "\n",
    "* Обзор и предобработка данных;\n",
    "* Анализ данных. Воронка событий;\n",
    "* Анализ результатов А/А/В-эксперимента;\n",
    "* Выводы."
   ]
  },
  {
   "cell_type": "markdown",
   "metadata": {},
   "source": [
    "## Обзор и предобработка данных"
   ]
  },
  {
   "cell_type": "code",
   "execution_count": 1,
   "metadata": {},
   "outputs": [
    {
     "ename": "ModuleNotFoundError",
     "evalue": "No module named 'plotly'",
     "output_type": "error",
     "traceback": [
      "\u001b[1;31m---------------------------------------------------------------------------\u001b[0m",
      "\u001b[1;31mModuleNotFoundError\u001b[0m                       Traceback (most recent call last)",
      "\u001b[1;32m<ipython-input-1-b63824e49a8d>\u001b[0m in \u001b[0;36m<module>\u001b[1;34m\u001b[0m\n\u001b[0;32m      4\u001b[0m \u001b[1;32mimport\u001b[0m \u001b[0mmatplotlib\u001b[0m\u001b[1;33m.\u001b[0m\u001b[0mpyplot\u001b[0m \u001b[1;32mas\u001b[0m \u001b[0mplt\u001b[0m\u001b[1;33m\u001b[0m\u001b[1;33m\u001b[0m\u001b[0m\n\u001b[0;32m      5\u001b[0m \u001b[1;32mimport\u001b[0m \u001b[0mseaborn\u001b[0m \u001b[1;32mas\u001b[0m \u001b[0msns\u001b[0m\u001b[1;33m\u001b[0m\u001b[1;33m\u001b[0m\u001b[0m\n\u001b[1;32m----> 6\u001b[1;33m \u001b[1;32mfrom\u001b[0m \u001b[0mplotly\u001b[0m \u001b[1;32mimport\u001b[0m \u001b[0mgraph_objects\u001b[0m \u001b[1;32mas\u001b[0m \u001b[0mgo\u001b[0m\u001b[1;33m\u001b[0m\u001b[1;33m\u001b[0m\u001b[0m\n\u001b[0m\u001b[0;32m      7\u001b[0m \u001b[1;32mfrom\u001b[0m \u001b[0mscipy\u001b[0m \u001b[1;32mimport\u001b[0m \u001b[0mstats\u001b[0m \u001b[1;32mas\u001b[0m \u001b[0mst\u001b[0m\u001b[1;33m\u001b[0m\u001b[1;33m\u001b[0m\u001b[0m\n\u001b[0;32m      8\u001b[0m \u001b[1;32mimport\u001b[0m \u001b[0mmath\u001b[0m \u001b[1;32mas\u001b[0m \u001b[0mmth\u001b[0m\u001b[1;33m\u001b[0m\u001b[1;33m\u001b[0m\u001b[0m\n",
      "\u001b[1;31mModuleNotFoundError\u001b[0m: No module named 'plotly'"
     ]
    }
   ],
   "source": [
    "import pandas as pd\n",
    "import numpy as np\n",
    "import matplotlib as mpl\n",
    "import matplotlib.pyplot as plt\n",
    "import seaborn as sns\n",
    "from plotly import graph_objects as go\n",
    "from scipy import stats as st\n",
    "import math as mth\n",
    "import warnings; warnings.filterwarnings(action = 'ignore')"
   ]
  },
  {
   "cell_type": "code",
   "execution_count": null,
   "metadata": {},
   "outputs": [],
   "source": [
    "# чтение файлов с данными и сохранение в df\n",
    "\n",
    "try:\n",
    "    data = pd.read_csv('/datasets/logs_exp.csv', sep='\\t')\n",
    "except:\n",
    "    data = pd.read_csv('logs_exp.csv', sep='\\t')"
   ]
  },
  {
   "cell_type": "code",
   "execution_count": null,
   "metadata": {},
   "outputs": [],
   "source": [
    "# ознакомимся с содержанием, типом данных и выведем первые 5 строк датафрейма\n",
    "data.info()\n",
    "data.head()"
   ]
  },
  {
   "cell_type": "code",
   "execution_count": null,
   "metadata": {},
   "outputs": [],
   "source": [
    "# обзор содержания столбцов EventName и ExpId\n",
    "\n",
    "display(data['EventName'].unique())\n",
    "display(data['ExpId'].unique())"
   ]
  },
  {
   "cell_type": "code",
   "execution_count": null,
   "metadata": {},
   "outputs": [],
   "source": [
    "# проверка на явные дубликаты и пропуски\n",
    "\n",
    "display(data.duplicated().sum())\n",
    "display(data.isna().sum())"
   ]
  },
  {
   "cell_type": "markdown",
   "metadata": {},
   "source": [
    "**Предварительно:** мы выявили, что в датафрейме отсутствуют пропуски, но есть дубли. Самих событий всего 5. Что следует сделать:\n",
    "* привести название столбцов к хорошему стилю (и для удобства)\n",
    "* заменить типа данных в столбце EventTimestamp (похоже, что дата и время указаны в секундах)\n",
    "* вынесьти дату в отдельную колонку для дальнейшего анализа\n",
    "* проверить пересечение пользователей в группе"
   ]
  },
  {
   "cell_type": "code",
   "execution_count": null,
   "metadata": {},
   "outputs": [],
   "source": [
    "# переименуем столбцы:\n",
    "\n",
    "data = data.rename(columns={'EventName': 'event', 'DeviceIDHash': 'user_id', \n",
    "                            'EventTimestamp': 'date_time', 'ExpId': 'group_id'})\n",
    "\n",
    "# заменим тип данных `datetime`: \n",
    "\n",
    "data['date_time'] = pd.to_datetime(data['date_time'], unit='s')\n",
    "\n",
    "# добавим поле с датой:\n",
    "\n",
    "data['date'] = pd.to_datetime(data['date_time'].dt.date)\n",
    "\n",
    "# удалим дубликаты\n",
    "\n",
    "data = data.drop_duplicates().reset_index(drop=True)\n",
    "\n",
    "display(data.head(1))\n",
    "data.info()"
   ]
  },
  {
   "cell_type": "code",
   "execution_count": null,
   "metadata": {},
   "outputs": [],
   "source": [
    "# проверим пользователей на пересечение в группах.\n",
    "\n",
    "data.groupby('user_id')['group_id'].nunique().reset_index().query('group_id > 1')"
   ]
  },
  {
   "cell_type": "markdown",
   "metadata": {},
   "source": [
    "**Итог предобработки:**\n",
    "* привели название столбцов к хорошему стилю\n",
    "* заменили типа данных в столбце EventTimestamp на datetime64\n",
    "* вынесли дату в отдельную колонку для дальнейшего анализа\n",
    "* пользователей, которые участвуют одновременно в двух или более группах - не выявлено"
   ]
  },
  {
   "cell_type": "markdown",
   "metadata": {},
   "source": [
    "## Анализ данных. Воронка событий"
   ]
  },
  {
   "cell_type": "markdown",
   "metadata": {},
   "source": [
    "### Количество событий и пользователей в логе"
   ]
  },
  {
   "cell_type": "code",
   "execution_count": null,
   "metadata": {},
   "outputs": [],
   "source": [
    "# посмотрим сколько всего событий и пользователей в логе\n",
    "print('Всего событий:', data.shape[0],'Виды событий:', data['event'].nunique(),'Всего пользователей:',\\\n",
    "      data['user_id'].nunique())"
   ]
  },
  {
   "cell_type": "code",
   "execution_count": null,
   "metadata": {},
   "outputs": [],
   "source": [
    "# посмотрим сколько в среднем событий приходится на пользователя\n",
    "print('В среднем, событий на пользователя: {:.0f}'.format(data.shape[0] / data['user_id'].nunique()))"
   ]
  },
  {
   "cell_type": "code",
   "execution_count": null,
   "metadata": {},
   "outputs": [],
   "source": [
    "# посмотрим сколько минимальное и максимальное кол-во событий приходится на пользователя:\n",
    "events_by_user = data.groupby('user_id').agg({'event':'count'}).reset_index()\n",
    "\n",
    "display(events_by_user['event'].describe())"
   ]
  },
  {
   "cell_type": "markdown",
   "metadata": {},
   "source": [
    "В среднем, на пользователя приходится порядка 32-х событий. При этои, минимальное количество - всего одно, а максимальное - 2307 шт. Если говорить о медиане - это 20 событий на пользователя."
   ]
  },
  {
   "cell_type": "markdown",
   "metadata": {},
   "source": [
    "### За какой период данные: максимальная и минимальная дата"
   ]
  },
  {
   "cell_type": "code",
   "execution_count": null,
   "metadata": {},
   "outputs": [],
   "source": [
    "# найдем максимальную и минимальную дату\n",
    "print('Минимальная дата:', data['date_time'].min(), 'Максимальная дата:', data['date_time'].max())"
   ]
  },
  {
   "cell_type": "code",
   "execution_count": null,
   "metadata": {},
   "outputs": [],
   "source": [
    "# гистограммы по дате и времени:\n",
    "\n",
    "plt.title('Распределение по дате')\n",
    "data['date_time'].hist(bins=7*24, figsize=(15, 5), alpha=0.5)\n",
    "plt.ylabel('Количество событий')\n",
    "plt.xlabel('Дата')\n",
    "plt.xticks(rotation=20)\n",
    "plt.show()\n",
    "\n",
    "plt.title('Распределение по времени суток')\n",
    "data['date_time'].dt.hour.hist(bins=24, figsize=(15, 5), alpha=0.5)\n",
    "plt.ylabel('Количество событий')\n",
    "plt.xlabel('Время суток')\n",
    "plt.xticks(range(0, 23))\n",
    "plt.show()"
   ]
  },
  {
   "cell_type": "markdown",
   "metadata": {},
   "source": [
    "На первой гистограмме видно, что данные за июль - неполные. Технически в логи новых дней по некоторым пользователям могут «доезжать» события из прошлого  — это может «перекашивать данные».\n",
    "Поэтому, чтобы избежать данной проблемы, берем данные с 01-08-2019 по 07-08-2019. Так же, мы видим, что основная активность пользователей происходит в дневное время.\n",
    "\n",
    "Отбросим старые данные и посмотрим, сколько событий и пользователей мы потеряли."
   ]
  },
  {
   "cell_type": "code",
   "execution_count": null,
   "metadata": {},
   "outputs": [],
   "source": [
    "before_logs = data.shape[0]\n",
    "before_users = data['user_id'].nunique()\n",
    "\n",
    "print('До корректировки периода всего событий:', before_logs, 'всего пользователей:', before_users)\n",
    "\n",
    "# удаляем данные за июль\n",
    "data = data[data['date_time'] > '2019-08-01']\n",
    "\n",
    "print('После корректировки периода всего событий:', data.shape[0],', всего пользователей:',data['user_id'].nunique())\n",
    "\n",
    "print('Изменение количества событий:', \n",
    "      data.shape[0]- before_logs, \n",
    "      '({:.1%})'.format((data.shape[0]-before_logs)/before_logs))\n",
    "print('Изменение количества пользователей:', \n",
    "      data['user_id'].nunique()- before_users, \n",
    "      '({:.1%})'.format((data['user_id'].nunique()-before_users)/before_users))"
   ]
  },
  {
   "cell_type": "markdown",
   "metadata": {},
   "source": [
    "После удаления части пользователей и событий посмотрим на распределения в тестовых группах (по количеству уникальных пользователей и по количеству событий):"
   ]
  },
  {
   "cell_type": "code",
   "execution_count": null,
   "metadata": {},
   "outputs": [],
   "source": [
    "# распределение пользователей по группам.\n",
    "data_group = data.groupby('group_id').agg({'user_id': 'nunique'}).reset_index()\n",
    "data_group['ratio'] = round(data_group['user_id']/data_group['user_id'].sum()*100)\n",
    "data_group"
   ]
  },
  {
   "cell_type": "code",
   "execution_count": null,
   "metadata": {},
   "outputs": [],
   "source": [
    "# распределение событий по группам\n",
    "data.groupby('group_id').agg({'event': 'count'}).reset_index()"
   ]
  },
  {
   "cell_type": "markdown",
   "metadata": {},
   "source": [
    "Количество пользователей в группах в целом сопоставимо: 248-й\n",
    "группе пользователей больше на 1% чем в группах 246 и 247. Количество событий в группах немного разнится, но это не критично."
   ]
  },
  {
   "cell_type": "markdown",
   "metadata": {},
   "source": [
    "### Воронка событий"
   ]
  },
  {
   "cell_type": "markdown",
   "metadata": {},
   "source": [
    "Посмотрим, какие события есть в логах, как часто они встречаются."
   ]
  },
  {
   "cell_type": "code",
   "execution_count": null,
   "metadata": {},
   "outputs": [],
   "source": [
    "events = (data.\n",
    "          groupby('event').\n",
    "          agg({'user_id': 'count'}).\n",
    "          reset_index().\n",
    "          rename(columns={'user_id' : 'total_events'}).\n",
    "          sort_values(by='total_events', ascending=False))\n",
    "events"
   ]
  },
  {
   "cell_type": "code",
   "execution_count": null,
   "metadata": {},
   "outputs": [],
   "source": [
    "plt.figure(figsize=(15, 5))\n",
    "ax = sns.barplot(x='total_events', y='event', data=events, alpha=0.5, color = 'blue')\n",
    "ax.set_title('Частота событий в логах')\n",
    "ax.set_xlabel('Количество') \n",
    "ax.set_ylabel('') \n",
    "plt.show()"
   ]
  },
  {
   "cell_type": "markdown",
   "metadata": {},
   "source": [
    "**Что имеем:**\n",
    "\n",
    "* MainScreenAppear (Главный экран) увидели 117328 раз;\n",
    "* OffersScreenAppear (Каталог предложений) увидели 46333 раза;\n",
    "* CartScreenAppear (Карточка товара) увидели 42303 раза;\n",
    "* PaymentScreenSuccessful (Экран с подтверждением успешной оплаты) увидели 33918 раз;\n",
    "* Tutorial (Урок) просмотрели 1005 раз.\n",
    "\n",
    "Теперь посчитаем, сколько пользователей совершали каждое из этих событий, а так же долю пользователей, которые хоть раз совершали событие."
   ]
  },
  {
   "cell_type": "code",
   "execution_count": null,
   "metadata": {},
   "outputs": [],
   "source": [
    "final_data = (data.\n",
    "          groupby('event').\n",
    "          agg({'user_id': 'nunique'}).\n",
    "          reset_index().\n",
    "          rename(columns={'user_id' : 'total_users'}).\n",
    "          sort_values(by='total_users', ascending=False))\n",
    "final_data['percent'] = round(final_data['total_users'] / data['user_id'].nunique() * 100, 2)\n",
    "final_data"
   ]
  },
  {
   "cell_type": "markdown",
   "metadata": {},
   "source": [
    "**Таким образом:**\n",
    "\n",
    "* Главную страницу увидели 7419 пользователей (98.5% от общего числа пользователей) - почти все\n",
    "* Каталог предложений просмотрели 4593 пользователей (61% от общего числа)\n",
    "* Карточку товара 3734 пользователя (49.6% от общего числа)\n",
    "* Завершили оплату 3539 пользователей (47% от общего числа)\n",
    "* Просмотрели урок 840 пользователей (11% от общего числа)\n",
    "\n",
    "\n",
    "Все события выстраиваются в логичную цепочку действий, кроме просмотра урока (Tutorial). Посмотреть урок можно на любом этапе или вообще пропустить данное действие. Чаще всего, интерфейс является интуитивно понятным. Поэтому шаг Tutorial из дальнейшей цепочки уберем.\n",
    "\n",
    "Тогда наша воронка событий выглядит следующим образом:\n",
    "\n",
    "* Главный экран\n",
    "* Каталог предложений\n",
    "* Карточка товара\n",
    "* Экран с подтверждением успешной оплаты\n",
    "\n",
    "Теперь посчитаем, какая доля пользователей проходит на следующий шаг воронки (от числа пользователей на предыдущем). То есть для последовательности событий A → B → C → D посчитаем отношение числа пользователей с событием B к количеству пользователей с событием A, отношение числа пользователей с событием C к количеству пользователей с событием B и т.д. \n",
    "\n",
    "Визуализируем нашу воронку."
   ]
  },
  {
   "cell_type": "code",
   "execution_count": null,
   "metadata": {},
   "outputs": [],
   "source": [
    "final_data = final_data[final_data['event'] != 'Tutorial']\n",
    "\n",
    "fig = go.Figure(go.Funnel(y = final_data['event'],\n",
    "                          x = final_data['total_users'],\n",
    "                          opacity = 0.6,\n",
    "                          textposition = 'inside',\n",
    "                          textinfo = 'value + percent previous'))\n",
    "fig.update_layout(title_text='Воронка событий')\n",
    "fig.show()"
   ]
  },
  {
   "cell_type": "code",
   "execution_count": null,
   "metadata": {},
   "outputs": [],
   "source": [
    "final_data['percent_step'] = round(final_data['total_users'] / \n",
    "                                     final_data['total_users']\n",
    "                                     .shift(periods=1, fill_value=final_data['total_users'][1]/1), 2)*100\n",
    "display(final_data)\n",
    "\n",
    "print('Посетили главную страницу:', final_data['percent_step'][1],'%')\n",
    "print('Просмотрели Каталог в % от предыдущего шага:', final_data['percent_step'][2])\n",
    "print('Просмотрели Карточку товара в % от предыдущего шага:', final_data['percent_step'][0])\n",
    "print('Оплатили в % от предыдущего шага:', final_data['percent_step'][3])"
   ]
  },
  {
   "cell_type": "markdown",
   "metadata": {},
   "source": [
    "**Вывод:** Мы видим, что наибольшее количество пользователей теряется после первого шага (38%). Это достаточно внушительный процент. \n",
    "\n",
    "Это может быть связано с тем, что: на главной странице показывается поп ап окно с информацией и пользователь просто закрывает приложение, или например для просмотра каталога необходимо внести свой адрес доставки, но не все готовы это делать не ознакомившись с каталогом и закрывают приложение. \n",
    "\n",
    "С остальными этапами воронки все очень неплохо: те кто попадает в каталог с большей вероятностью совершают покупку: 95% от числа тех, кто просмотрел карточку товара. Но в конечном счете, только 47% от первоначального количества пользователей успешно оплачивают товары из корзины."
   ]
  },
  {
   "cell_type": "markdown",
   "metadata": {},
   "source": [
    "## Анализ результатов А/А/В-эксперимента"
   ]
  },
  {
   "cell_type": "markdown",
   "metadata": {},
   "source": [
    "Мы знаем, что у нас есть 2 контрольные группы для А/А-эксперимента (246 и 247), чтобы проверить корректность всех механизмов и расчётов, и одна тестовая группа (В, 248).\n",
    "\n",
    "Вспомним сколько у нас участников в каждой группе."
   ]
  },
  {
   "cell_type": "code",
   "execution_count": null,
   "metadata": {},
   "outputs": [],
   "source": [
    "data_group"
   ]
  },
  {
   "cell_type": "markdown",
   "metadata": {},
   "source": [
    "Как мы выявили ранее, самым популярным событием является: MainScreenAppear (Посещение главной страницы). Посмотрим распределние пользователей по этому событию в группах."
   ]
  },
  {
   "cell_type": "code",
   "execution_count": null,
   "metadata": {},
   "outputs": [],
   "source": [
    "# посмотрим сколько пользователей совершили событие: MainScreenAppear в каждой группе\n",
    "data_group_event = (data.\n",
    "                    groupby(['event', 'group_id']).\n",
    "                    agg({'user_id': 'nunique'}).\n",
    "                    reset_index().\n",
    "                    rename(columns={'user_id' : 'total_users'}).\n",
    "                    sort_values(by=['group_id','total_users'], ascending=False))\n",
    "\n",
    "data_group_event = data_group_event[data_group_event['event'] != 'Tutorial']\n",
    "\n",
    "data_group_event['ratio'] = round(data_group_event['total_users']/data_group_event['total_users'].sum()*100)\n",
    "data_group_event_1 = data_group_event[data_group_event['event'] == 'MainScreenAppear']\n",
    "data_group_event_1"
   ]
  },
  {
   "cell_type": "markdown",
   "metadata": {},
   "source": [
    "Внешне, группы очень похожи. Проверим гипотезу о равенстве выборок, и для начала проверим находят ли статистические критерии разницу между выборками 246 и 247 (А/А-тест). Используем Z-критерий (статистический тест, позволяющий определить, различаются ли два средних значения генеральной совокупности, когда дисперсии известны и размер выборки велик). \n",
    "\n",
    "Всего у нас 4 вида событий, итого: 4 A/A теста и 12 А/В. Из-за множественного стравнения есть вероятность ложнопозитивного результата. Поэтому стоит использовать либо поправку Бонферрони, либо метод Шидака. Чтобы повысить мощность стат.теста (т.е. вероятность не ошибиться) используем метод Шидака. Для удобства, напишем функцию."
   ]
  },
  {
   "cell_type": "code",
   "execution_count": null,
   "metadata": {},
   "outputs": [],
   "source": [
    "def z_test(group_1, group_2, event, alpha, n):\n",
    "    \n",
    "    # критический уровень статистической значимости с учетом метода Шидака\n",
    "    shidak_alpha = 1 - (1-alpha)**(1/n)\n",
    " \n",
    "    # число пользователей в группе 1 и группе 2:\n",
    "    n_users = np.array([group_1['user_id'].nunique(), \n",
    "                        group_2['user_id'].nunique()])\n",
    "\n",
    "    # число пользователей, совершивших событие в группе 1 и группе 2\n",
    "    success = np.array([group_1[group_1['event'] == event]['user_id'].nunique(), \n",
    "                        group_2[group_2['event'] == event]['user_id'].nunique()])\n",
    "\n",
    "    # пропорции успехов в группах:\n",
    "    p1 = success[0]/n_users[0]\n",
    "    p2 = success[1]/n_users[1]\n",
    "    \n",
    "    # пропорция успехов в комбинированном датасете:\n",
    "    p_combined = (success[0] + success[1]) / (n_users[0] + n_users[1])\n",
    "\n",
    "    # разница пропорций в датасетах\n",
    "    difference = p1 - p2 \n",
    "\n",
    "    # считаем статистику в ст.отклонениях стандартного нормального распределения\n",
    "    z_value = difference /  np.sqrt(p_combined * (1 - p_combined) * (1/n_users[0] + 1/n_users[1]))\n",
    "\n",
    "    # задаем стандартное нормальное распределение (среднее 0, ст.отклонение 1)\n",
    "    distr = st.norm(0, 1)  \n",
    "\n",
    "    p_value = (1 - distr.cdf(abs(z_value))) * 2   #тест двусторонний, удваиваем результат\n",
    "    \n",
    "    print('Событие:', event)\n",
    "    print('p-значение: ', p_value)\n",
    "\n",
    "    if p_value < shidak_alpha:\n",
    "        print('Отвергаем нулевую гипотезу: между долями есть разница')\n",
    "    else:\n",
    "        print('Не получилось отвергнуть нулевую гипотезу, нет оснований считать доли разными')"
   ]
  },
  {
   "cell_type": "markdown",
   "metadata": {},
   "source": [
    "Нам нужно будет сопоставить доли по каждому событию между:\n",
    "\n",
    "* контрольными группами 246 и 247;\n",
    "* каждой из контрольной группы по отдельности и экспериментальной (246-248 и 247-248);\n",
    "* объединенной контрольной группой и экспериментальной (246+247 и 248).\n",
    "\n",
    "Введем основную и альтернативные гипотезы для всех попарных сравнений:\n",
    "\n",
    "* **Нулевая гипотеза:** доли уникальных посетителей, побывавших на этапе воронки, одинаковы\n",
    "* **Альтернативная гипотеза:** доли уникальных посетителей, побывавших на этапе воронки, отличаются"
   ]
  },
  {
   "cell_type": "code",
   "execution_count": null,
   "metadata": {},
   "outputs": [],
   "source": [
    "# проверим, есть ли статистически значимая разница между контрольными группами 246 и 247:\n",
    "\n",
    "for event in data_group_event['event'].unique():\n",
    "    z_test(data[data['group_id'] == 246], data[data['group_id'] == 247], event,.05, 16)\n",
    "    print()"
   ]
  },
  {
   "cell_type": "markdown",
   "metadata": {},
   "source": [
    "Цель А/А-теста — показать, можно ли доверять результатам эксперимента, который будет запущен в тех же условиях, но уже с разными вариантами шрифта. Между контрольными группами ни по одному событию нет статистически достоверного отличия при заданном уровне значимости, а значит, приступаем к A/B-тестированию."
   ]
  },
  {
   "cell_type": "code",
   "execution_count": null,
   "metadata": {},
   "outputs": [],
   "source": [
    "# проверим, есть ли статистически значимая разница между контрольной группой 246 и эксперементальной 248:\n",
    "\n",
    "for event in data_group_event['event'].unique():\n",
    "    z_test(data[data['group_id'] == 246], data[data['group_id'] == 248], event, .05, 16)\n",
    "    print()"
   ]
  },
  {
   "cell_type": "markdown",
   "metadata": {},
   "source": [
    "При заданном уровне значимости у нас нет оснований считать группы 246 и 248 разными."
   ]
  },
  {
   "cell_type": "code",
   "execution_count": null,
   "metadata": {},
   "outputs": [],
   "source": [
    "# проверим, есть ли статистически значимая разница между контрольной группой 247 и эксперементальной 248:\n",
    "\n",
    "for event in data_group_event['event'].unique():\n",
    "    z_test(data[data['group_id'] == 247], data[data['group_id'] == 248], event,.05, 16)\n",
    "    print()"
   ]
  },
  {
   "cell_type": "markdown",
   "metadata": {},
   "source": [
    "При заданном уровне значимости у нас так же нет оснований считать группы 247 и 248 разными."
   ]
  },
  {
   "cell_type": "code",
   "execution_count": null,
   "metadata": {},
   "outputs": [],
   "source": [
    "# проверим есть ли статистически значимая разница между объединённой контрольной и экпериментальной 248 группами:\n",
    "\n",
    "for event in data_group_event['event'].unique():\n",
    "    z_test(data[data['group_id'] != 248], data[data['group_id'] == 248], event,.05, 16)\n",
    "    print()"
   ]
  },
  {
   "cell_type": "markdown",
   "metadata": {},
   "source": [
    "Как и в прошлых тестах нам не удалось отвергнуть нулевую гипотезу, у нас нет оснований считать доли объединённой контрольной и экпериментальной 248 групп разными. Из этого делаем вывод, что **изменение шрифтов во всём приложении на поведение пользователей не повлияло.**"
   ]
  },
  {
   "cell_type": "markdown",
   "metadata": {},
   "source": [
    "## Выводы"
   ]
  },
  {
   "cell_type": "markdown",
   "metadata": {},
   "source": [
    "В результате исследования были проанализированы поведение покупателей на основании логов пользователей, а так же, результаты А/А/В-теста. После предобработки данных было рассмотрено поведение 7534 пользователя мобильного приложения.\n",
    "\n",
    "Была сформирована воронка событий. Одно событие (Tutorial) было исключено из анализа ввиду необязательного прохождения и отсутствия влияния на остальные шаги.\n",
    "\"Спускаясь\" по воронке мы выявили, что:\n",
    "\n",
    "* Главную страницу увидели 7419 пользователей (100% от общего числа пользователей);\n",
    "* Страницу товара просмотрели 4593 пользователей (62% от общего числа);\n",
    "* Карточку просмотрели 3734 пользователя (52% от общего числа);\n",
    "* Завершили оплату 3539 пользователей (48% от общего числа).\n",
    "\n",
    "БОльшее количество пользователей приложение теряло после первого шага (более 38%), чуть менее 9% на следующем и около 2% при переходе на последний шаг. Т.е. примерно 48% пользователей воспользовались приложением и оплатили заказ.\n",
    "\n",
    "Это может быть связано с тем, что: \n",
    "1. на главной странице показывается поп ап окно с информацией и пользователь просто закрывает приложение,\n",
    "2. или для просмотра каталога необходимо внести свой адрес доставки, но не все готовы это делать не ознакомившись с каталогом и закрывают приложение.\n",
    "\n",
    "Если что-то подобное есть в приложении, то мы бы рекомендовали провести дополнительные А/В тесты. \n",
    "Для эксперементальной группы:\n",
    "* отключить поп ап\n",
    "* ввод адреса предлагать на этапе заказа товаров.\n",
    "\n",
    "Далее, был проанализирован результат А/А/В-эксперимента(изменение шрифта во всем приложении), для этого были ипользованы логи событий за период (с 01/08/2019 по 07/08/2019).\n",
    "\n",
    "В эксперименте были учтено поведение пользователей, разделенных на три группы:\n",
    "\n",
    "* 246-ая - 2484 пользователя;\n",
    "* 247-ая - 2513 пользователя;\n",
    "* 248-ая - 2537 пользователя.\n",
    "\n",
    "Нам необходимо было сопоставить доли пользователей по каждому событию между:\n",
    "\n",
    "* контрольными группами 246 и 247;\n",
    "* каждой из контрольной группы по отдельности и экспериментальной (246-248 и 247-248);\n",
    "* объединенной контрольной группой и экспериментальной (246+247 и 248).\n",
    "\n",
    "Множесто А/В-тестов, проведённых по каждому из событий, не обнаружили статистически значимой разницы между группами. Значит изменение шрифтов во всём приложении на поведение пользователей не повлияло.\n"
   ]
  },
  {
   "cell_type": "code",
   "execution_count": null,
   "metadata": {},
   "outputs": [],
   "source": []
  }
 ],
 "metadata": {
  "ExecuteTimeLog": [
   {
    "duration": 1317,
    "start_time": "2023-04-27T18:05:05.264Z"
   },
   {
    "duration": 962,
    "start_time": "2023-04-27T18:06:43.486Z"
   },
   {
    "duration": 29,
    "start_time": "2023-04-27T18:07:09.165Z"
   },
   {
    "duration": 23,
    "start_time": "2023-04-27T18:19:49.001Z"
   },
   {
    "duration": 65,
    "start_time": "2023-04-27T18:39:14.477Z"
   },
   {
    "duration": 258,
    "start_time": "2023-04-27T19:09:08.874Z"
   },
   {
    "duration": 84,
    "start_time": "2023-04-27T19:09:14.678Z"
   },
   {
    "duration": 82,
    "start_time": "2023-04-27T19:10:56.480Z"
   },
   {
    "duration": 215,
    "start_time": "2023-04-27T19:12:47.758Z"
   },
   {
    "duration": 128,
    "start_time": "2023-04-27T19:13:04.971Z"
   },
   {
    "duration": 86,
    "start_time": "2023-04-27T19:14:29.253Z"
   },
   {
    "duration": 211,
    "start_time": "2023-04-27T19:14:54.883Z"
   },
   {
    "duration": 59,
    "start_time": "2023-04-27T19:15:29.830Z"
   },
   {
    "duration": 44,
    "start_time": "2023-04-27T19:15:38.175Z"
   },
   {
    "duration": 56,
    "start_time": "2023-04-27T19:15:46.225Z"
   },
   {
    "duration": 1435,
    "start_time": "2023-04-27T19:17:18.950Z"
   },
   {
    "duration": 204,
    "start_time": "2023-04-27T19:17:20.389Z"
   },
   {
    "duration": 30,
    "start_time": "2023-04-27T19:17:20.595Z"
   },
   {
    "duration": 57,
    "start_time": "2023-04-27T19:17:20.628Z"
   },
   {
    "duration": 97,
    "start_time": "2023-04-27T19:17:20.690Z"
   },
   {
    "duration": 254,
    "start_time": "2023-04-27T19:17:20.789Z"
   },
   {
    "duration": 70,
    "start_time": "2023-04-27T19:17:21.045Z"
   },
   {
    "duration": 329,
    "start_time": "2023-04-27T19:17:39.815Z"
   },
   {
    "duration": 48,
    "start_time": "2023-04-28T16:35:37.004Z"
   },
   {
    "duration": 1298,
    "start_time": "2023-04-28T16:35:49.302Z"
   },
   {
    "duration": 563,
    "start_time": "2023-04-28T16:35:50.602Z"
   },
   {
    "duration": 27,
    "start_time": "2023-04-28T16:35:51.167Z"
   },
   {
    "duration": 21,
    "start_time": "2023-04-28T16:35:51.196Z"
   },
   {
    "duration": 101,
    "start_time": "2023-04-28T16:35:51.219Z"
   },
   {
    "duration": 223,
    "start_time": "2023-04-28T16:35:51.322Z"
   },
   {
    "duration": 38,
    "start_time": "2023-04-28T16:35:51.549Z"
   },
   {
    "duration": 54,
    "start_time": "2023-04-28T16:35:51.589Z"
   },
   {
    "duration": 37,
    "start_time": "2023-04-28T16:36:35.521Z"
   },
   {
    "duration": 38,
    "start_time": "2023-04-28T16:38:06.921Z"
   },
   {
    "duration": 126,
    "start_time": "2023-04-28T16:39:26.071Z"
   },
   {
    "duration": 6,
    "start_time": "2023-04-28T16:39:41.905Z"
   },
   {
    "duration": 7,
    "start_time": "2023-04-28T16:42:06.411Z"
   },
   {
    "duration": 7,
    "start_time": "2023-04-28T16:44:05.951Z"
   },
   {
    "duration": 3,
    "start_time": "2023-04-28T17:03:45.582Z"
   },
   {
    "duration": 24,
    "start_time": "2023-04-28T17:03:55.885Z"
   },
   {
    "duration": 5,
    "start_time": "2023-04-28T17:24:50.385Z"
   },
   {
    "duration": 8,
    "start_time": "2023-04-28T17:25:17.233Z"
   },
   {
    "duration": 5,
    "start_time": "2023-04-28T17:27:30.226Z"
   },
   {
    "duration": 6,
    "start_time": "2023-04-28T17:33:25.669Z"
   },
   {
    "duration": 5,
    "start_time": "2023-04-28T17:33:32.413Z"
   },
   {
    "duration": 1132,
    "start_time": "2023-04-28T17:33:36.289Z"
   },
   {
    "duration": 191,
    "start_time": "2023-04-28T17:33:37.423Z"
   },
   {
    "duration": 37,
    "start_time": "2023-04-28T17:33:37.616Z"
   },
   {
    "duration": 37,
    "start_time": "2023-04-28T17:33:37.661Z"
   },
   {
    "duration": 81,
    "start_time": "2023-04-28T17:33:37.700Z"
   },
   {
    "duration": 246,
    "start_time": "2023-04-28T17:33:37.782Z"
   },
   {
    "duration": 49,
    "start_time": "2023-04-28T17:33:38.030Z"
   },
   {
    "duration": 33,
    "start_time": "2023-04-28T17:33:38.080Z"
   },
   {
    "duration": 6,
    "start_time": "2023-04-28T17:33:38.115Z"
   },
   {
    "duration": 34,
    "start_time": "2023-04-28T17:33:38.139Z"
   },
   {
    "duration": 8,
    "start_time": "2023-04-28T17:33:38.174Z"
   },
   {
    "duration": 707,
    "start_time": "2023-04-28T17:35:07.959Z"
   },
   {
    "duration": 250,
    "start_time": "2023-04-28T17:36:12.355Z"
   },
   {
    "duration": 290,
    "start_time": "2023-04-28T17:36:17.996Z"
   },
   {
    "duration": 352,
    "start_time": "2023-04-28T17:37:06.974Z"
   },
   {
    "duration": 316,
    "start_time": "2023-04-28T17:37:13.860Z"
   },
   {
    "duration": 392,
    "start_time": "2023-04-28T17:37:59.458Z"
   },
   {
    "duration": 612,
    "start_time": "2023-04-28T17:40:58.751Z"
   },
   {
    "duration": 829,
    "start_time": "2023-04-28T17:42:16.400Z"
   },
   {
    "duration": 764,
    "start_time": "2023-04-28T17:42:39.100Z"
   },
   {
    "duration": 723,
    "start_time": "2023-04-28T17:42:51.745Z"
   },
   {
    "duration": 613,
    "start_time": "2023-04-28T17:43:02.152Z"
   },
   {
    "duration": 895,
    "start_time": "2023-04-28T17:44:49.773Z"
   },
   {
    "duration": 816,
    "start_time": "2023-04-28T17:45:03.788Z"
   },
   {
    "duration": 1168,
    "start_time": "2023-04-28T17:45:13.192Z"
   },
   {
    "duration": 180,
    "start_time": "2023-04-28T17:45:14.361Z"
   },
   {
    "duration": 34,
    "start_time": "2023-04-28T17:45:14.545Z"
   },
   {
    "duration": 25,
    "start_time": "2023-04-28T17:45:14.580Z"
   },
   {
    "duration": 110,
    "start_time": "2023-04-28T17:45:14.608Z"
   },
   {
    "duration": 251,
    "start_time": "2023-04-28T17:45:14.720Z"
   },
   {
    "duration": 41,
    "start_time": "2023-04-28T17:45:14.973Z"
   },
   {
    "duration": 52,
    "start_time": "2023-04-28T17:45:15.016Z"
   },
   {
    "duration": 27,
    "start_time": "2023-04-28T17:45:15.070Z"
   },
   {
    "duration": 82,
    "start_time": "2023-04-28T17:45:15.098Z"
   },
   {
    "duration": 5,
    "start_time": "2023-04-28T17:45:15.182Z"
   },
   {
    "duration": 699,
    "start_time": "2023-04-28T17:45:15.188Z"
   },
   {
    "duration": 560,
    "start_time": "2023-04-28T17:45:35.162Z"
   },
   {
    "duration": 587,
    "start_time": "2023-04-28T17:45:57.321Z"
   },
   {
    "duration": 542,
    "start_time": "2023-04-28T17:46:15.382Z"
   },
   {
    "duration": 657,
    "start_time": "2023-04-28T17:47:04.468Z"
   },
   {
    "duration": 708,
    "start_time": "2023-04-28T17:48:05.265Z"
   },
   {
    "duration": 631,
    "start_time": "2023-04-28T17:51:38.057Z"
   },
   {
    "duration": 659,
    "start_time": "2023-04-28T17:53:26.407Z"
   },
   {
    "duration": 734,
    "start_time": "2023-04-28T17:54:01.809Z"
   },
   {
    "duration": 666,
    "start_time": "2023-04-28T17:54:22.891Z"
   },
   {
    "duration": 1351,
    "start_time": "2023-04-29T13:42:00.176Z"
   },
   {
    "duration": 739,
    "start_time": "2023-04-29T13:42:01.529Z"
   },
   {
    "duration": 30,
    "start_time": "2023-04-29T13:42:02.270Z"
   },
   {
    "duration": 23,
    "start_time": "2023-04-29T13:42:02.302Z"
   },
   {
    "duration": 94,
    "start_time": "2023-04-29T13:42:02.327Z"
   },
   {
    "duration": 239,
    "start_time": "2023-04-29T13:42:02.422Z"
   },
   {
    "duration": 55,
    "start_time": "2023-04-29T13:42:02.663Z"
   },
   {
    "duration": 36,
    "start_time": "2023-04-29T13:42:02.720Z"
   },
   {
    "duration": 7,
    "start_time": "2023-04-29T13:42:02.758Z"
   },
   {
    "duration": 50,
    "start_time": "2023-04-29T13:42:02.768Z"
   },
   {
    "duration": 6,
    "start_time": "2023-04-29T13:42:02.820Z"
   },
   {
    "duration": 781,
    "start_time": "2023-04-29T13:42:02.828Z"
   },
   {
    "duration": 1210,
    "start_time": "2023-04-29T15:00:33.621Z"
   },
   {
    "duration": 164,
    "start_time": "2023-04-29T15:00:34.834Z"
   },
   {
    "duration": 35,
    "start_time": "2023-04-29T15:00:35.000Z"
   },
   {
    "duration": 27,
    "start_time": "2023-04-29T15:00:35.037Z"
   },
   {
    "duration": 108,
    "start_time": "2023-04-29T15:00:35.066Z"
   },
   {
    "duration": 222,
    "start_time": "2023-04-29T15:00:35.176Z"
   },
   {
    "duration": 48,
    "start_time": "2023-04-29T15:00:35.399Z"
   },
   {
    "duration": 34,
    "start_time": "2023-04-29T15:00:35.449Z"
   },
   {
    "duration": 27,
    "start_time": "2023-04-29T15:00:35.485Z"
   },
   {
    "duration": 27,
    "start_time": "2023-04-29T15:00:35.513Z"
   },
   {
    "duration": 6,
    "start_time": "2023-04-29T15:00:35.541Z"
   },
   {
    "duration": 758,
    "start_time": "2023-04-29T15:00:35.548Z"
   },
   {
    "duration": 24,
    "start_time": "2023-04-29T15:00:36.312Z"
   },
   {
    "duration": 1247,
    "start_time": "2023-04-29T15:16:36.386Z"
   },
   {
    "duration": 165,
    "start_time": "2023-04-29T15:16:37.635Z"
   },
   {
    "duration": 33,
    "start_time": "2023-04-29T15:16:37.802Z"
   },
   {
    "duration": 23,
    "start_time": "2023-04-29T15:16:37.838Z"
   },
   {
    "duration": 107,
    "start_time": "2023-04-29T15:16:37.862Z"
   },
   {
    "duration": 224,
    "start_time": "2023-04-29T15:16:37.971Z"
   },
   {
    "duration": 49,
    "start_time": "2023-04-29T15:16:38.199Z"
   },
   {
    "duration": 34,
    "start_time": "2023-04-29T15:16:38.250Z"
   },
   {
    "duration": 7,
    "start_time": "2023-04-29T15:16:38.285Z"
   },
   {
    "duration": 25,
    "start_time": "2023-04-29T15:16:38.313Z"
   },
   {
    "duration": 5,
    "start_time": "2023-04-29T15:16:38.340Z"
   },
   {
    "duration": 895,
    "start_time": "2023-04-29T15:16:38.347Z"
   },
   {
    "duration": 35,
    "start_time": "2023-04-29T15:16:39.244Z"
   },
   {
    "duration": 139,
    "start_time": "2023-04-29T15:32:46.608Z"
   },
   {
    "duration": 34,
    "start_time": "2023-04-29T15:33:11.983Z"
   },
   {
    "duration": 19,
    "start_time": "2023-04-29T15:34:40.828Z"
   },
   {
    "duration": 37,
    "start_time": "2023-04-29T15:48:31.903Z"
   },
   {
    "duration": 43,
    "start_time": "2023-04-29T15:48:52.662Z"
   },
   {
    "duration": 32,
    "start_time": "2023-04-29T15:49:03.221Z"
   },
   {
    "duration": 43,
    "start_time": "2023-04-29T15:49:16.379Z"
   },
   {
    "duration": 39,
    "start_time": "2023-04-29T15:49:34.564Z"
   },
   {
    "duration": 37,
    "start_time": "2023-04-29T15:49:53.676Z"
   },
   {
    "duration": 37,
    "start_time": "2023-04-29T15:53:01.423Z"
   },
   {
    "duration": 43,
    "start_time": "2023-04-29T16:03:03.472Z"
   },
   {
    "duration": 28,
    "start_time": "2023-04-29T16:03:29.563Z"
   },
   {
    "duration": 18,
    "start_time": "2023-04-29T16:13:48.567Z"
   },
   {
    "duration": 16,
    "start_time": "2023-04-29T16:14:25.627Z"
   },
   {
    "duration": 156,
    "start_time": "2023-04-29T16:15:27.609Z"
   },
   {
    "duration": 156,
    "start_time": "2023-04-29T16:16:04.096Z"
   },
   {
    "duration": 143,
    "start_time": "2023-04-29T16:16:23.870Z"
   },
   {
    "duration": 245,
    "start_time": "2023-04-29T16:16:45.780Z"
   },
   {
    "duration": 164,
    "start_time": "2023-04-29T16:17:03.785Z"
   },
   {
    "duration": 155,
    "start_time": "2023-04-29T16:17:32.036Z"
   },
   {
    "duration": 149,
    "start_time": "2023-04-29T16:20:34.703Z"
   },
   {
    "duration": 163,
    "start_time": "2023-04-29T16:21:19.612Z"
   },
   {
    "duration": 65,
    "start_time": "2023-04-29T17:09:49.637Z"
   },
   {
    "duration": 63,
    "start_time": "2023-04-29T17:10:16.291Z"
   },
   {
    "duration": 14,
    "start_time": "2023-04-29T19:58:37.094Z"
   },
   {
    "duration": 1649,
    "start_time": "2023-04-29T19:59:15.093Z"
   },
   {
    "duration": 268,
    "start_time": "2023-04-29T19:59:16.747Z"
   },
   {
    "duration": 57,
    "start_time": "2023-04-29T19:59:17.017Z"
   },
   {
    "duration": 47,
    "start_time": "2023-04-29T19:59:17.080Z"
   },
   {
    "duration": 133,
    "start_time": "2023-04-29T19:59:17.133Z"
   },
   {
    "duration": 387,
    "start_time": "2023-04-29T19:59:17.272Z"
   },
   {
    "duration": 74,
    "start_time": "2023-04-29T19:59:17.667Z"
   },
   {
    "duration": 62,
    "start_time": "2023-04-29T19:59:17.746Z"
   },
   {
    "duration": 15,
    "start_time": "2023-04-29T19:59:17.814Z"
   },
   {
    "duration": 57,
    "start_time": "2023-04-29T19:59:17.834Z"
   },
   {
    "duration": 9,
    "start_time": "2023-04-29T19:59:17.901Z"
   },
   {
    "duration": 1380,
    "start_time": "2023-04-29T19:59:17.918Z"
   },
   {
    "duration": 46,
    "start_time": "2023-04-29T19:59:19.304Z"
   },
   {
    "duration": 68,
    "start_time": "2023-04-29T19:59:19.359Z"
   },
   {
    "duration": 38,
    "start_time": "2023-04-29T19:59:19.438Z"
   },
   {
    "duration": 48,
    "start_time": "2023-04-29T19:59:19.483Z"
   },
   {
    "duration": 250,
    "start_time": "2023-04-29T19:59:19.538Z"
   },
   {
    "duration": 101,
    "start_time": "2023-04-29T19:59:19.795Z"
   },
   {
    "duration": 287,
    "start_time": "2023-04-29T19:59:19.902Z"
   },
   {
    "duration": 202,
    "start_time": "2023-04-29T19:59:56.351Z"
   },
   {
    "duration": 16,
    "start_time": "2023-04-29T20:00:54.287Z"
   },
   {
    "duration": 3,
    "start_time": "2023-04-29T20:08:17.396Z"
   },
   {
    "duration": 1358,
    "start_time": "2023-04-30T13:31:42.658Z"
   },
   {
    "duration": 964,
    "start_time": "2023-04-30T13:31:44.018Z"
   },
   {
    "duration": 28,
    "start_time": "2023-04-30T13:31:44.984Z"
   },
   {
    "duration": 22,
    "start_time": "2023-04-30T13:31:45.015Z"
   },
   {
    "duration": 97,
    "start_time": "2023-04-30T13:31:45.039Z"
   },
   {
    "duration": 213,
    "start_time": "2023-04-30T13:31:45.138Z"
   },
   {
    "duration": 49,
    "start_time": "2023-04-30T13:31:45.353Z"
   },
   {
    "duration": 30,
    "start_time": "2023-04-30T13:31:45.404Z"
   },
   {
    "duration": 8,
    "start_time": "2023-04-30T13:31:45.435Z"
   },
   {
    "duration": 47,
    "start_time": "2023-04-30T13:31:45.446Z"
   },
   {
    "duration": 5,
    "start_time": "2023-04-30T13:31:45.494Z"
   },
   {
    "duration": 776,
    "start_time": "2023-04-30T13:31:45.500Z"
   },
   {
    "duration": 34,
    "start_time": "2023-04-30T13:31:46.277Z"
   },
   {
    "duration": 36,
    "start_time": "2023-04-30T13:31:46.312Z"
   },
   {
    "duration": 18,
    "start_time": "2023-04-30T13:31:46.350Z"
   },
   {
    "duration": 46,
    "start_time": "2023-04-30T13:31:46.370Z"
   },
   {
    "duration": 172,
    "start_time": "2023-04-30T13:31:46.419Z"
   },
   {
    "duration": 62,
    "start_time": "2023-04-30T13:31:46.593Z"
   },
   {
    "duration": 171,
    "start_time": "2023-04-30T13:31:46.656Z"
   },
   {
    "duration": 4,
    "start_time": "2023-04-30T13:36:16.260Z"
   },
   {
    "duration": 11,
    "start_time": "2023-04-30T13:36:27.407Z"
   },
   {
    "duration": 11,
    "start_time": "2023-04-30T13:39:52.441Z"
   },
   {
    "duration": 10,
    "start_time": "2023-04-30T13:41:24.901Z"
   },
   {
    "duration": 11,
    "start_time": "2023-04-30T13:42:25.288Z"
   },
   {
    "duration": 1103,
    "start_time": "2023-04-30T13:43:41.387Z"
   },
   {
    "duration": 144,
    "start_time": "2023-04-30T13:43:42.492Z"
   },
   {
    "duration": 27,
    "start_time": "2023-04-30T13:43:42.637Z"
   },
   {
    "duration": 38,
    "start_time": "2023-04-30T13:43:42.666Z"
   },
   {
    "duration": 87,
    "start_time": "2023-04-30T13:43:42.706Z"
   },
   {
    "duration": 231,
    "start_time": "2023-04-30T13:43:42.794Z"
   },
   {
    "duration": 41,
    "start_time": "2023-04-30T13:43:43.027Z"
   },
   {
    "duration": 44,
    "start_time": "2023-04-30T13:43:43.070Z"
   },
   {
    "duration": 6,
    "start_time": "2023-04-30T13:43:43.116Z"
   },
   {
    "duration": 23,
    "start_time": "2023-04-30T13:43:43.125Z"
   },
   {
    "duration": 5,
    "start_time": "2023-04-30T13:43:43.150Z"
   },
   {
    "duration": 789,
    "start_time": "2023-04-30T13:43:43.156Z"
   },
   {
    "duration": 25,
    "start_time": "2023-04-30T13:43:43.946Z"
   },
   {
    "duration": 48,
    "start_time": "2023-04-30T13:43:43.973Z"
   },
   {
    "duration": 17,
    "start_time": "2023-04-30T13:43:44.023Z"
   },
   {
    "duration": 23,
    "start_time": "2023-04-30T13:43:44.041Z"
   },
   {
    "duration": 169,
    "start_time": "2023-04-30T13:43:44.066Z"
   },
   {
    "duration": 65,
    "start_time": "2023-04-30T13:43:44.236Z"
   },
   {
    "duration": 163,
    "start_time": "2023-04-30T13:43:44.303Z"
   },
   {
    "duration": 12,
    "start_time": "2023-04-30T13:43:44.468Z"
   },
   {
    "duration": 5,
    "start_time": "2023-04-30T13:49:14.977Z"
   },
   {
    "duration": 13,
    "start_time": "2023-04-30T13:49:25.432Z"
   },
   {
    "duration": 11,
    "start_time": "2023-04-30T13:50:29.589Z"
   },
   {
    "duration": 9,
    "start_time": "2023-04-30T14:20:49.576Z"
   },
   {
    "duration": 67,
    "start_time": "2023-04-30T14:31:46.557Z"
   },
   {
    "duration": 1187,
    "start_time": "2023-04-30T14:38:54.777Z"
   },
   {
    "duration": 150,
    "start_time": "2023-04-30T14:38:55.966Z"
   },
   {
    "duration": 27,
    "start_time": "2023-04-30T14:38:56.117Z"
   },
   {
    "duration": 24,
    "start_time": "2023-04-30T14:38:56.146Z"
   },
   {
    "duration": 91,
    "start_time": "2023-04-30T14:38:56.172Z"
   },
   {
    "duration": 229,
    "start_time": "2023-04-30T14:38:56.264Z"
   },
   {
    "duration": 39,
    "start_time": "2023-04-30T14:38:56.495Z"
   },
   {
    "duration": 30,
    "start_time": "2023-04-30T14:38:56.536Z"
   },
   {
    "duration": 30,
    "start_time": "2023-04-30T14:38:56.567Z"
   },
   {
    "duration": 30,
    "start_time": "2023-04-30T14:38:56.599Z"
   },
   {
    "duration": 6,
    "start_time": "2023-04-30T14:38:56.630Z"
   },
   {
    "duration": 772,
    "start_time": "2023-04-30T14:38:56.637Z"
   },
   {
    "duration": 35,
    "start_time": "2023-04-30T14:38:57.411Z"
   },
   {
    "duration": 60,
    "start_time": "2023-04-30T14:38:57.448Z"
   },
   {
    "duration": 23,
    "start_time": "2023-04-30T14:38:57.510Z"
   },
   {
    "duration": 31,
    "start_time": "2023-04-30T14:38:57.535Z"
   },
   {
    "duration": 162,
    "start_time": "2023-04-30T14:38:57.592Z"
   },
   {
    "duration": 72,
    "start_time": "2023-04-30T14:38:57.756Z"
   },
   {
    "duration": 150,
    "start_time": "2023-04-30T14:38:57.830Z"
   },
   {
    "duration": 14,
    "start_time": "2023-04-30T14:38:57.982Z"
   },
   {
    "duration": 18,
    "start_time": "2023-04-30T14:38:57.999Z"
   },
   {
    "duration": 117,
    "start_time": "2023-04-30T14:38:58.018Z"
   },
   {
    "duration": 1205,
    "start_time": "2023-04-30T18:20:00.505Z"
   },
   {
    "duration": 159,
    "start_time": "2023-04-30T18:20:01.712Z"
   },
   {
    "duration": 33,
    "start_time": "2023-04-30T18:20:01.873Z"
   },
   {
    "duration": 66,
    "start_time": "2023-04-30T18:20:01.908Z"
   },
   {
    "duration": 130,
    "start_time": "2023-04-30T18:20:01.976Z"
   },
   {
    "duration": 244,
    "start_time": "2023-04-30T18:20:02.108Z"
   },
   {
    "duration": 51,
    "start_time": "2023-04-30T18:20:02.354Z"
   },
   {
    "duration": 44,
    "start_time": "2023-04-30T18:20:02.407Z"
   },
   {
    "duration": 12,
    "start_time": "2023-04-30T18:20:02.453Z"
   },
   {
    "duration": 50,
    "start_time": "2023-04-30T18:20:02.466Z"
   },
   {
    "duration": 9,
    "start_time": "2023-04-30T18:20:02.518Z"
   },
   {
    "duration": 774,
    "start_time": "2023-04-30T18:20:02.528Z"
   },
   {
    "duration": 24,
    "start_time": "2023-04-30T18:20:03.304Z"
   },
   {
    "duration": 35,
    "start_time": "2023-04-30T18:20:03.331Z"
   },
   {
    "duration": 38,
    "start_time": "2023-04-30T18:20:03.368Z"
   },
   {
    "duration": 26,
    "start_time": "2023-04-30T18:20:03.408Z"
   },
   {
    "duration": 189,
    "start_time": "2023-04-30T18:20:03.436Z"
   },
   {
    "duration": 72,
    "start_time": "2023-04-30T18:20:03.627Z"
   },
   {
    "duration": 167,
    "start_time": "2023-04-30T18:20:03.701Z"
   },
   {
    "duration": 12,
    "start_time": "2023-04-30T18:20:03.869Z"
   },
   {
    "duration": 29,
    "start_time": "2023-04-30T18:20:03.883Z"
   },
   {
    "duration": 99,
    "start_time": "2023-04-30T18:20:03.914Z"
   },
   {
    "duration": 54,
    "start_time": "2023-04-30T18:36:06.052Z"
   },
   {
    "duration": 77,
    "start_time": "2023-04-30T18:36:16.330Z"
   },
   {
    "duration": 70,
    "start_time": "2023-04-30T18:42:22.163Z"
   },
   {
    "duration": 12,
    "start_time": "2023-04-30T19:13:23.092Z"
   },
   {
    "duration": 1223,
    "start_time": "2023-04-30T19:25:55.913Z"
   },
   {
    "duration": 159,
    "start_time": "2023-04-30T19:25:57.139Z"
   },
   {
    "duration": 33,
    "start_time": "2023-04-30T19:25:57.300Z"
   },
   {
    "duration": 30,
    "start_time": "2023-04-30T19:25:57.343Z"
   },
   {
    "duration": 107,
    "start_time": "2023-04-30T19:25:57.376Z"
   },
   {
    "duration": 331,
    "start_time": "2023-04-30T19:25:57.493Z"
   },
   {
    "duration": 43,
    "start_time": "2023-04-30T19:25:57.827Z"
   },
   {
    "duration": 47,
    "start_time": "2023-04-30T19:25:57.873Z"
   },
   {
    "duration": 9,
    "start_time": "2023-04-30T19:25:57.922Z"
   },
   {
    "duration": 34,
    "start_time": "2023-04-30T19:25:57.933Z"
   },
   {
    "duration": 34,
    "start_time": "2023-04-30T19:25:57.969Z"
   },
   {
    "duration": 836,
    "start_time": "2023-04-30T19:25:58.011Z"
   },
   {
    "duration": 25,
    "start_time": "2023-04-30T19:25:58.849Z"
   },
   {
    "duration": 53,
    "start_time": "2023-04-30T19:25:58.877Z"
   },
   {
    "duration": 17,
    "start_time": "2023-04-30T19:25:58.932Z"
   },
   {
    "duration": 57,
    "start_time": "2023-04-30T19:25:58.950Z"
   },
   {
    "duration": 170,
    "start_time": "2023-04-30T19:25:59.010Z"
   },
   {
    "duration": 84,
    "start_time": "2023-04-30T19:25:59.182Z"
   },
   {
    "duration": 182,
    "start_time": "2023-04-30T19:25:59.268Z"
   },
   {
    "duration": 14,
    "start_time": "2023-04-30T19:25:59.451Z"
   },
   {
    "duration": 10,
    "start_time": "2023-04-30T19:25:59.466Z"
   },
   {
    "duration": 136,
    "start_time": "2023-04-30T19:25:59.495Z"
   },
   {
    "duration": 10,
    "start_time": "2023-04-30T19:25:59.633Z"
   },
   {
    "duration": 195,
    "start_time": "2023-04-30T19:25:59.645Z"
   },
   {
    "duration": 111,
    "start_time": "2023-04-30T19:28:59.948Z"
   },
   {
    "duration": 1498,
    "start_time": "2023-04-30T19:29:16.144Z"
   },
   {
    "duration": 214,
    "start_time": "2023-04-30T19:29:17.648Z"
   },
   {
    "duration": 47,
    "start_time": "2023-04-30T19:29:17.868Z"
   },
   {
    "duration": 37,
    "start_time": "2023-04-30T19:29:17.921Z"
   },
   {
    "duration": 113,
    "start_time": "2023-04-30T19:29:17.963Z"
   },
   {
    "duration": 323,
    "start_time": "2023-04-30T19:29:18.077Z"
   },
   {
    "duration": 65,
    "start_time": "2023-04-30T19:29:18.406Z"
   },
   {
    "duration": 53,
    "start_time": "2023-04-30T19:29:18.474Z"
   },
   {
    "duration": 13,
    "start_time": "2023-04-30T19:29:18.533Z"
   },
   {
    "duration": 41,
    "start_time": "2023-04-30T19:29:18.553Z"
   },
   {
    "duration": 10,
    "start_time": "2023-04-30T19:29:18.601Z"
   },
   {
    "duration": 1134,
    "start_time": "2023-04-30T19:29:18.615Z"
   },
   {
    "duration": 59,
    "start_time": "2023-04-30T19:29:19.756Z"
   },
   {
    "duration": 61,
    "start_time": "2023-04-30T19:29:19.818Z"
   },
   {
    "duration": 46,
    "start_time": "2023-04-30T19:29:19.881Z"
   },
   {
    "duration": 41,
    "start_time": "2023-04-30T19:29:19.937Z"
   },
   {
    "duration": 231,
    "start_time": "2023-04-30T19:29:19.980Z"
   },
   {
    "duration": 81,
    "start_time": "2023-04-30T19:29:20.222Z"
   },
   {
    "duration": 247,
    "start_time": "2023-04-30T19:29:20.309Z"
   },
   {
    "duration": 19,
    "start_time": "2023-04-30T19:29:20.558Z"
   },
   {
    "duration": 22,
    "start_time": "2023-04-30T19:29:20.579Z"
   },
   {
    "duration": 163,
    "start_time": "2023-04-30T19:29:20.604Z"
   },
   {
    "duration": 9,
    "start_time": "2023-04-30T19:29:20.770Z"
   },
   {
    "duration": 188,
    "start_time": "2023-04-30T19:29:20.781Z"
   },
   {
    "duration": 104,
    "start_time": "2023-04-30T19:29:56.177Z"
   },
   {
    "duration": 1505,
    "start_time": "2023-04-30T19:30:37.442Z"
   },
   {
    "duration": 248,
    "start_time": "2023-04-30T19:30:38.951Z"
   },
   {
    "duration": 52,
    "start_time": "2023-04-30T19:30:39.203Z"
   },
   {
    "duration": 44,
    "start_time": "2023-04-30T19:30:39.261Z"
   },
   {
    "duration": 124,
    "start_time": "2023-04-30T19:30:39.310Z"
   },
   {
    "duration": 346,
    "start_time": "2023-04-30T19:30:39.438Z"
   },
   {
    "duration": 78,
    "start_time": "2023-04-30T19:30:39.787Z"
   },
   {
    "duration": 61,
    "start_time": "2023-04-30T19:30:39.867Z"
   },
   {
    "duration": 15,
    "start_time": "2023-04-30T19:30:39.930Z"
   },
   {
    "duration": 23,
    "start_time": "2023-04-30T19:30:39.948Z"
   },
   {
    "duration": 6,
    "start_time": "2023-04-30T19:30:39.973Z"
   },
   {
    "duration": 985,
    "start_time": "2023-04-30T19:30:39.981Z"
   },
   {
    "duration": 58,
    "start_time": "2023-04-30T19:30:40.969Z"
   },
   {
    "duration": 63,
    "start_time": "2023-04-30T19:30:41.038Z"
   },
   {
    "duration": 32,
    "start_time": "2023-04-30T19:30:41.105Z"
   },
   {
    "duration": 33,
    "start_time": "2023-04-30T19:30:41.140Z"
   },
   {
    "duration": 212,
    "start_time": "2023-04-30T19:30:41.176Z"
   },
   {
    "duration": 77,
    "start_time": "2023-04-30T19:30:41.389Z"
   },
   {
    "duration": 217,
    "start_time": "2023-04-30T19:30:41.468Z"
   },
   {
    "duration": 24,
    "start_time": "2023-04-30T19:30:41.687Z"
   },
   {
    "duration": 13,
    "start_time": "2023-04-30T19:30:41.715Z"
   },
   {
    "duration": 176,
    "start_time": "2023-04-30T19:30:41.730Z"
   },
   {
    "duration": 15,
    "start_time": "2023-04-30T19:30:41.917Z"
   },
   {
    "duration": 142,
    "start_time": "2023-04-30T19:30:41.937Z"
   },
   {
    "duration": 125,
    "start_time": "2023-04-30T19:44:01.938Z"
   },
   {
    "duration": 116,
    "start_time": "2023-04-30T19:45:28.154Z"
   },
   {
    "duration": 241,
    "start_time": "2023-04-30T19:46:47.735Z"
   },
   {
    "duration": 1140,
    "start_time": "2023-04-30T20:05:39.653Z"
   },
   {
    "duration": 152,
    "start_time": "2023-04-30T20:05:40.797Z"
   },
   {
    "duration": 28,
    "start_time": "2023-04-30T20:05:40.951Z"
   },
   {
    "duration": 43,
    "start_time": "2023-04-30T20:05:40.981Z"
   },
   {
    "duration": 101,
    "start_time": "2023-04-30T20:05:41.026Z"
   },
   {
    "duration": 263,
    "start_time": "2023-04-30T20:05:41.129Z"
   },
   {
    "duration": 41,
    "start_time": "2023-04-30T20:05:41.394Z"
   },
   {
    "duration": 57,
    "start_time": "2023-04-30T20:05:41.437Z"
   },
   {
    "duration": 9,
    "start_time": "2023-04-30T20:05:41.496Z"
   },
   {
    "duration": 61,
    "start_time": "2023-04-30T20:05:41.510Z"
   },
   {
    "duration": 7,
    "start_time": "2023-04-30T20:05:41.573Z"
   },
   {
    "duration": 802,
    "start_time": "2023-04-30T20:05:41.582Z"
   },
   {
    "duration": 31,
    "start_time": "2023-04-30T20:05:42.386Z"
   },
   {
    "duration": 58,
    "start_time": "2023-04-30T20:05:42.419Z"
   },
   {
    "duration": 28,
    "start_time": "2023-04-30T20:05:42.480Z"
   },
   {
    "duration": 40,
    "start_time": "2023-04-30T20:05:42.510Z"
   },
   {
    "duration": 179,
    "start_time": "2023-04-30T20:05:42.552Z"
   },
   {
    "duration": 73,
    "start_time": "2023-04-30T20:05:42.733Z"
   },
   {
    "duration": 182,
    "start_time": "2023-04-30T20:05:42.808Z"
   },
   {
    "duration": 20,
    "start_time": "2023-04-30T20:05:42.993Z"
   },
   {
    "duration": 8,
    "start_time": "2023-04-30T20:05:43.015Z"
   },
   {
    "duration": 193,
    "start_time": "2023-04-30T20:05:43.025Z"
   },
   {
    "duration": 7,
    "start_time": "2023-04-30T20:05:43.220Z"
   },
   {
    "duration": 118,
    "start_time": "2023-04-30T20:05:43.229Z"
   },
   {
    "duration": 130,
    "start_time": "2023-04-30T20:05:43.349Z"
   },
   {
    "duration": 142,
    "start_time": "2023-04-30T20:05:43.481Z"
   },
   {
    "duration": 258,
    "start_time": "2023-04-30T20:05:43.625Z"
   },
   {
    "duration": 1434,
    "start_time": "2023-05-01T08:29:47.713Z"
   },
   {
    "duration": 556,
    "start_time": "2023-05-01T08:29:49.150Z"
   },
   {
    "duration": 29,
    "start_time": "2023-05-01T08:29:49.708Z"
   },
   {
    "duration": 22,
    "start_time": "2023-05-01T08:29:49.739Z"
   },
   {
    "duration": 83,
    "start_time": "2023-05-01T08:29:49.763Z"
   },
   {
    "duration": 237,
    "start_time": "2023-05-01T08:29:49.848Z"
   },
   {
    "duration": 59,
    "start_time": "2023-05-01T08:29:50.087Z"
   },
   {
    "duration": 36,
    "start_time": "2023-05-01T08:29:50.149Z"
   },
   {
    "duration": 7,
    "start_time": "2023-05-01T08:29:50.187Z"
   },
   {
    "duration": 51,
    "start_time": "2023-05-01T08:29:50.197Z"
   },
   {
    "duration": 6,
    "start_time": "2023-05-01T08:29:50.250Z"
   },
   {
    "duration": 869,
    "start_time": "2023-05-01T08:29:50.257Z"
   },
   {
    "duration": 32,
    "start_time": "2023-05-01T08:29:51.128Z"
   },
   {
    "duration": 73,
    "start_time": "2023-05-01T08:29:51.162Z"
   },
   {
    "duration": 24,
    "start_time": "2023-05-01T08:29:51.237Z"
   },
   {
    "duration": 29,
    "start_time": "2023-05-01T08:29:51.262Z"
   },
   {
    "duration": 194,
    "start_time": "2023-05-01T08:29:51.293Z"
   },
   {
    "duration": 70,
    "start_time": "2023-05-01T08:29:51.488Z"
   },
   {
    "duration": 362,
    "start_time": "2023-05-01T08:29:51.559Z"
   },
   {
    "duration": 30,
    "start_time": "2023-05-01T08:29:51.923Z"
   },
   {
    "duration": 17,
    "start_time": "2023-05-01T08:29:51.955Z"
   },
   {
    "duration": 173,
    "start_time": "2023-05-01T08:29:51.974Z"
   },
   {
    "duration": 6,
    "start_time": "2023-05-01T08:29:52.149Z"
   },
   {
    "duration": 131,
    "start_time": "2023-05-01T08:29:52.156Z"
   },
   {
    "duration": 111,
    "start_time": "2023-05-01T08:29:52.289Z"
   },
   {
    "duration": 112,
    "start_time": "2023-05-01T08:29:52.402Z"
   },
   {
    "duration": 257,
    "start_time": "2023-05-01T08:29:52.516Z"
   }
  ],
  "kernelspec": {
   "display_name": "Python 3",
   "language": "python",
   "name": "python3"
  },
  "language_info": {
   "codemirror_mode": {
    "name": "ipython",
    "version": 3
   },
   "file_extension": ".py",
   "mimetype": "text/x-python",
   "name": "python",
   "nbconvert_exporter": "python",
   "pygments_lexer": "ipython3",
   "version": "3.8.8"
  },
  "toc": {
   "base_numbering": 1,
   "nav_menu": {},
   "number_sections": false,
   "sideBar": true,
   "skip_h1_title": false,
   "title_cell": "Table of Contents",
   "title_sidebar": "Contents",
   "toc_cell": false,
   "toc_position": {
    "height": "calc(100% - 180px)",
    "left": "10px",
    "top": "150px",
    "width": "271.267px"
   },
   "toc_section_display": true,
   "toc_window_display": true
  }
 },
 "nbformat": 4,
 "nbformat_minor": 2
}
